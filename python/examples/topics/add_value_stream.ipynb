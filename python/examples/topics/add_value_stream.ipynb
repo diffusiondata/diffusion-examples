{
 "cells": [
  {
   "cell_type": "markdown",
   "metadata": {},
   "source": [
    "# Add value stream example\n",
    "\n",
    "To use this example, start a Diffusion server and update the connection details below as needed. Then create a topic of the right type and run all the cells in this notebook.\n",
    "\n",
    "Changing the topic values (e.g. in the console, or via another session) will trigger the stream callback, which will show in the output at the bottom of the notebook during the session's duration."
   ]
  },
  {
   "cell_type": "code",
   "execution_count": 1,
   "metadata": {},
   "outputs": [],
   "source": [
    "import asyncio\n",
    "import diffusion"
   ]
  },
  {
   "cell_type": "code",
   "execution_count": 2,
   "metadata": {},
   "outputs": [],
   "source": [
    "server_url = \"ws://localhost:8080\"\n",
    "principal = \"admin\"\n",
    "credentials = diffusion.Credentials(\"password\")"
   ]
  },
  {
   "cell_type": "code",
   "execution_count": 3,
   "metadata": {},
   "outputs": [],
   "source": [
    "topic_selector = \"foo/bar\"\n",
    "topic_type = diffusion.datatypes.STRING\n",
    "\n",
    "session_duration = 30"
   ]
  },
  {
   "cell_type": "code",
   "execution_count": 4,
   "metadata": {},
   "outputs": [],
   "source": [
    "def on_update(*, old_value, topic_path, topic_value, **kwargs):\n",
    "    print(\"Topic:\", topic_path)\n",
    "    if old_value is None:\n",
    "        print(\"  Initial value:\", topic_value)\n",
    "    else:\n",
    "        print(\"  Value updated\")\n",
    "        print(\"    Old value:\", old_value)\n",
    "        print(\"    New value:\", topic_value)\n",
    "\n",
    "def on_subscribe(*, topic_path, **kwargs):\n",
    "    print(f\"Subscribed to {topic_path}\")\n",
    "    \n",
    "def on_unsubscribe(*, reason, topic_path, **kwargs):\n",
    "    print(f\"Unsubscribed from {topic_path} because {str(reason)}\")"
   ]
  },
  {
   "cell_type": "code",
   "execution_count": 5,
   "metadata": {},
   "outputs": [],
   "source": [
    "value_stream = diffusion.topics.ValueStreamHandler(\n",
    "    data_type=topic_type, update=on_update, subscribe=on_subscribe, unsubscribe=on_unsubscribe\n",
    ")"
   ]
  },
  {
   "cell_type": "code",
   "execution_count": 6,
   "metadata": {},
   "outputs": [
    {
     "name": "stdout",
     "output_type": "stream",
     "text": [
      "Adding value stream\n",
      "Subscribing to foo/bar\n",
      "Unsubscribing from foo/bar\n"
     ]
    }
   ],
   "source": [
    "# creating the session\n",
    "async with diffusion.Session(url=server_url, principal=principal, credentials=credentials) as session:\n",
    "\n",
    "    print(\"Adding value stream\")\n",
    "    session.topics.add_value_stream(topic_selector=topic_selector, stream=value_stream)\n",
    "\n",
    "    print(f\"Subscribing to {topic_selector}\")\n",
    "    await session.topics.subscribe(topic_selector)\n",
    "\n",
    "    await asyncio.sleep(session_duration)\n",
    "\n",
    "    print(f\"Unsubscribing from {topic_selector}\")\n",
    "    await session.topics.unsubscribe(topic_selector)\n",
    "\n",
    "    await asyncio.sleep(1)  # keep alive to display the unsubscription message"
   ]
  }
 ],
 "metadata": {
  "kernelspec": {
   "display_name": "Python 3",
   "language": "python",
   "name": "python3"
  },
  "language_info": {
   "codemirror_mode": {
    "name": "ipython",
    "version": 3
   },
   "file_extension": ".py",
   "mimetype": "text/x-python",
   "name": "python",
   "nbconvert_exporter": "python",
   "pygments_lexer": "ipython3",
   "version": "3.8.6"
  }
 },
 "nbformat": 4,
 "nbformat_minor": 1
}
