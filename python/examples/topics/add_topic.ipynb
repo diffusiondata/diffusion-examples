{
 "cells": [
  {
   "cell_type": "markdown",
   "metadata": {},
   "source": [
    "# Add Topic Example\n",
    "\n",
    "Adds a topic with the given path and data type."
   ]
  },
  {
   "cell_type": "code",
   "execution_count": null,
   "metadata": {},
   "outputs": [],
   "source": [
    "import diffusion"
   ]
  },
  {
   "cell_type": "code",
   "execution_count": null,
   "metadata": {},
   "outputs": [],
   "source": [
    "server_url = \"ws://localhost:8080\"\n",
    "principal = \"admin\"\n",
    "credentials = diffusion.Credentials(\"password\")"
   ]
  },
  {
   "cell_type": "code",
   "execution_count": null,
   "metadata": {},
   "outputs": [],
   "source": [
    "path = \"foo/bar\"\n",
    "topic_type = diffusion.datatypes.STRING"
   ]
  },
  {
   "cell_type": "code",
   "execution_count": null,
   "metadata": {},
   "outputs": [],
   "source": [
    "# creating the session\n",
    "async with diffusion.Session(url=server_url, principal=principal, credentials=credentials) as session:\n",
    "\n",
    "    # adding a topic\n",
    "    add_response = await session.topics.add_topic(path, topic_type)\n",
    "\n",
    "    if add_response == session.topics.CREATED:\n",
    "        print(f\"Topic {path} successfully created.\")\n",
    "    if add_response == session.topics.EXISTS:\n",
    "        print(f\"Topic {path} already exists.\")"
   ]
  }
 ],
 "metadata": {
  "kernelspec": {
   "display_name": "Python 3",
   "language": "python",
   "name": "python3"
  },
  "language_info": {
   "codemirror_mode": {
    "name": "ipython",
    "version": 3
   },
   "file_extension": ".py",
   "mimetype": "text/x-python",
   "name": "python",
   "nbconvert_exporter": "python",
   "pygments_lexer": "ipython3",
   "version": "3.8.6"
  }
 },
 "nbformat": 4,
 "nbformat_minor": 4
}