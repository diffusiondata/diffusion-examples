{
 "cells": [
  {
   "cell_type": "markdown",
   "metadata": {},
   "source": [
    "# Add and Set Value Example\n",
    "\n",
    "Adds a topic with the given path, data type and value. The value will be set on the topic either if it's just created or already exists."
   ]
  },
  {
   "cell_type": "code",
   "execution_count": null,
   "metadata": {},
   "outputs": [],
   "source": [
    "import diffusion"
   ]
  },
  {
   "cell_type": "code",
   "execution_count": null,
   "metadata": {},
   "outputs": [],
   "source": [
    "server_url = \"ws://localhost:8080\"\n",
    "principal = \"admin\"\n",
    "credentials = diffusion.Credentials(\"password\")"
   ]
  },
  {
   "cell_type": "code",
   "execution_count": null,
   "metadata": {},
   "outputs": [],
   "source": [
    "path = \"foo/bar\"\n",
    "topic_type = diffusion.datatypes.STRING\n",
    "value = \"bla bla\""
   ]
  },
  {
   "cell_type": "code",
   "execution_count": null,
   "metadata": {},
   "outputs": [],
   "source": [
    "# creating the session\n",
    "async with diffusion.Session(url=server_url, principal=principal, credentials=credentials) as session:\n",
    "\n",
    "    # adding a topic, setting its value\n",
    "    add_response = await session.topics.add_and_set_topic(path, topic_type, value)\n",
    "\n",
    "    if add_response == session.topics.CREATED:\n",
    "        print(f\"Topic {path} successfully created.\")\n",
    "    if add_response == session.topics.EXISTS:\n",
    "        print(f\"Topic {path} already exists.\")"
   ]
  }
 ],
 "metadata": {
  "kernelspec": {
   "display_name": "Python 3",
   "language": "python",
   "name": "python3"
  },
  "language_info": {
   "codemirror_mode": {
    "name": "ipython",
    "version": 3
   },
   "file_extension": ".py",
   "mimetype": "text/x-python",
   "name": "python",
   "nbconvert_exporter": "python",
   "pygments_lexer": "ipython3",
   "version": "3.8.6"
  }
 },
 "nbformat": 4,
 "nbformat_minor": 4
}