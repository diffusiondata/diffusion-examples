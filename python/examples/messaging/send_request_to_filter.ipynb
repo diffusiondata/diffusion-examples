{
 "cells": [
  {
   "cell_type": "markdown",
   "metadata": {},
   "source": [
    "# Send request to filter example\n",
    "\n",
    "To use this example, start a Diffusion server and update the connection details below as needed.\n",
    "\n",
    "The example creates two sessions, sets a request handler on one of them (the receiver) and the filter response handler on the other (the sender). The sender then sends a message to the filter, and waits to receive a response from the receiver."
   ]
  },
  {
   "cell_type": "code",
   "execution_count": null,
   "metadata": {
    "pycharm": {
     "name": "#%%\n"
    }
   },
   "outputs": [],
   "source": [
    "import asyncio\n",
    "import diffusion"
   ]
  },
  {
   "cell_type": "code",
   "execution_count": null,
   "metadata": {
    "pycharm": {
     "name": "#%%\n"
    }
   },
   "outputs": [],
   "source": [
    "# Diffusion server connection information; same for both sessions\n",
    "# adjust as needed for the server used in practice\n",
    "server_url = \"ws://localhost:8080\"\n",
    "principal = \"admin\"\n",
    "credentials = diffusion.Credentials(\"password\")\n",
    "\n",
    "# request properties\n",
    "request = \"Pushme Pullyou\"\n",
    "path = \"path\"\n",
    "request_type = diffusion.datatypes.STRING  # datatype of the request"
   ]
  },
  {
   "cell_type": "code",
   "execution_count": null,
   "metadata": {},
   "outputs": [],
   "source": [
    "# request handler\n",
    "def callback(request: str, **kwargs) -> str:\n",
    "    return f\"Hello there, {request}!\"\n",
    "\n",
    "request_handler = diffusion.messaging.RequestHandler(\n",
    "    callback, request_type=request_type, response_type=request_type\n",
    ")\n",
    "\n",
    "# filter response handler\n",
    "def filter_response_callback(response, **kwargs):\n",
    "    print(\"Received response from session '{session_id}':\".format(**kwargs))\n",
    "    print(f\"    {response}\")\n",
    "    print(\" - Request was sent to {filter} on path {path}\".format(**kwargs))\n",
    "    print(\" - Received {received} of {expected} response(s).\".format(**kwargs))\n",
    "\n",
    "filter_response_handler = diffusion.handlers.EventStreamHandler(\n",
    "    response=filter_response_callback\n",
    ")"
   ]
  },
  {
   "cell_type": "code",
   "execution_count": null,
   "metadata": {},
   "outputs": [],
   "source": [
    "# creating the two sessions\n",
    "sender = diffusion.Session(\n",
    "    url=server_url, principal=principal, credentials=credentials\n",
    ")\n",
    "receiver = diffusion.Session(\n",
    "    url=server_url, principal=principal, credentials=credentials\n",
    ")\n",
    "\n",
    "async with sender, receiver:\n",
    "\n",
    "    # adding the handler for addressed requests\n",
    "    receiver.messaging.add_stream_handler(path, handler=request_handler, addressed=True)\n",
    "\n",
    "    # specifying the session filter\n",
    "    # this is a very simple filter, addressing the receiver session directly\n",
    "    session_filter = f\"$SessionId is '{receiver.session_id}'\"\n",
    "\n",
    "    # adding filter response handler\n",
    "    sender.messaging.add_filter_response_handler(\n",
    "        session_filter=session_filter, handler=filter_response_handler\n",
    "    )\n",
    "\n",
    "    # sending the request and receiving the number of expected responses\n",
    "    print(f\"Sending request: '{request}' to session filter `{session_filter}`...\")\n",
    "    try:\n",
    "        response = await sender.messaging.send_request_to_filter(\n",
    "            session_filter=session_filter, path=path, request=request_type(request),\n",
    "        )\n",
    "    except diffusion.DiffusionError as ex:\n",
    "        print(f\"ERROR: {ex}\")\n",
    "    else:\n",
    "        print(f\"... expecting {response} response(s) ...\")\n",
    "\n",
    "    # waiting a bit to receive all responses\n",
    "    await asyncio.sleep(1)\n"
   ]
  }
 ],
 "metadata": {
  "kernelspec": {
   "display_name": "Python 3",
   "language": "python",
   "name": "python3"
  },
  "language_info": {
   "codemirror_mode": {
    "name": "ipython",
    "version": 3
   },
   "file_extension": ".py",
   "mimetype": "text/x-python",
   "name": "python",
   "nbconvert_exporter": "python",
   "pygments_lexer": "ipython3",
   "version": "3.8.6"
  }
 },
 "nbformat": 4,
 "nbformat_minor": 4
}