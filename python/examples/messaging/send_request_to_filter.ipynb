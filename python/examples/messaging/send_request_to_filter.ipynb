{
 "cells": [
  {
   "cell_type": "markdown",
   "metadata": {},
   "source": [
    "# Send request to filter example\n",
    "\n",
    "To use this example, start a Diffusion server and update the connection details below as needed.\n",
    "\n",
    "The example creates two sessions, sets a request handler on one of them (the receiver) and the filter response handler on the other (the sender). The sender then sends a message to the filter, and waits to receive a response from the receiver."
   ]
  },
  {
   "cell_type": "code",
   "execution_count": null,
   "metadata": {
    "pycharm": {
     "name": "#%%\n"
    }
   },
   "outputs": [],
   "source": [
    "import asyncio\n",
    "import diffusion"
   ]
  },
  {
   "cell_type": "code",
   "execution_count": null,
   "metadata": {
    "pycharm": {
     "name": "#%%\n"
    }
   },
   "outputs": [],
   "source": [
    "# Diffusion server connection information; same for both sessions\n",
    "# adjust as needed for the server used in practice\n",
    "server_url = \"ws://localhost:8080\"\n",
    "principal = \"admin\"\n",
    "credentials = diffusion.Credentials(\"password\")\n",
    "\n",
    "\n",
    "# handler callback function\n",
    "def request_handler(request: str, context=None) -> str:\n",
    "    return f\"Hello there, {request}!\"\n",
    "\n",
    "\n",
    "# filter response handler function\n",
    "def on_filter_response(response, context=None):\n",
    "    print(f\"Received response from session '{context['session_id']}':\")\n",
    "    print(f\"    {response}\")\n",
    "    print(\" - Request was sent to {filter} on path {path}\".format(**context))\n",
    "    print(\" - Received {received} of {expected} response(s).\".format(**context))\n",
    "\n",
    "\n",
    "# request properties\n",
    "request = \"Pushme Pullyou\"\n",
    "path = \"path\"\n",
    "request_type = diffusion.datatypes.STRING  # datatype of the request"
   ]
  },
  {
   "cell_type": "code",
   "execution_count": null,
   "metadata": {},
   "outputs": [],
   "source": [
    "# creating the two sessions\n",
    "sender_session = diffusion.Session(\n",
    "    url=server_url, principal=principal, credentials=credentials\n",
    ")\n",
    "receiver_session = diffusion.Session(\n",
    "    url=server_url, principal=principal, credentials=credentials\n",
    ")\n",
    "\n",
    "async with sender_session, receiver_session:\n",
    "    # instantiating the messaging components for both sessions\n",
    "    receiver = diffusion.Messaging(receiver_session)\n",
    "    sender = diffusion.Messaging(sender_session)\n",
    "\n",
    "    # adding the handler for addressed requests\n",
    "    receiver.add_request_handler(\n",
    "        path,\n",
    "        callback=request_handler,\n",
    "        request_type=request_type,\n",
    "        response_type=request_type,\n",
    "        addressed=True,\n",
    "    )\n",
    "\n",
    "    # specifying the session filter\n",
    "    # this is a very simple filter, addressing the receiver session directly\n",
    "    session_filter = f\"$SessionId is '{receiver_session.session_id}'\"\n",
    "\n",
    "    # adding filter response handler\n",
    "    sender.add_filter_response_handler(\n",
    "        session_filter=session_filter, callback=on_filter_response\n",
    "    )\n",
    "\n",
    "    # sending the request and receiving the number of expected responses\n",
    "    print(f\"Sending request: '{request}' to session filter `{session_filter}`...\")\n",
    "    try:\n",
    "        response = await sender.send_request_to_filter(\n",
    "            session_filter=session_filter, path=path, request=request_type(request),\n",
    "        )\n",
    "    except diffusion.DiffusionError as ex:\n",
    "        print(f\"ERROR: {ex}\")\n",
    "    else:\n",
    "        print(f\"... expecting {response} response(s) ...\")\n",
    "\n",
    "    # waiting a bit to receive all responses\n",
    "    await asyncio.sleep(1)\n"
   ]
  },
  {
   "cell_type": "code",
   "execution_count": null,
   "metadata": {},
   "outputs": [],
   "source": [
    "request = \"Pushme Pullyou\"\n",
    "path = \"path\"\n",
    "request_type = diffusion.datatypes.STRING  # datatype of the request"
   ]
  },
  {
   "cell_type": "code",
   "execution_count": null,
   "metadata": {},
   "outputs": [],
   "source": [
    "# creating the two sessions\n",
    "sender_session = diffusion.Session(\n",
    "    url=server_url, principal=principal, credentials=credentials\n",
    ")\n",
    "receiver_session = diffusion.Session(\n",
    "    url=server_url, principal=principal, credentials=credentials\n",
    ")\n",
    "\n",
    "async with sender_session, receiver_session:\n",
    "    # instantiating the messaging components for both sessions\n",
    "    receiver = diffusion.Messaging(receiver_session)\n",
    "    sender = diffusion.Messaging(sender_session)\n",
    "\n",
    "    # adding the handler for addressed requests\n",
    "    receiver.add_request_handler(\n",
    "        path,\n",
    "        callback=request_handler,\n",
    "        request_type=request_type,\n",
    "        response_type=request_type,\n",
    "        addressed=True,\n",
    "    )\n",
    "\n",
    "    # specifying the session filter\n",
    "    # this is a very simple filter, addressing the receiver session directly\n",
    "    session_filter = f\"$SessionId is '{receiver_session.session_id}'\"\n",
    "\n",
    "    # adding filter response handler\n",
    "    sender.add_filter_response_handler(\n",
    "        session_filter=session_filter, callback=on_filter_response\n",
    "    )\n",
    "\n",
    "    # sending the request and receiving the number of expected responses\n",
    "    print(f\"Sending request: '{request}' to session filter `{session_filter}`...\")\n",
    "    try:\n",
    "        response = await sender.send_request_to_filter(\n",
    "            session_filter=session_filter, path=path, request=request_type(request),\n",
    "        )\n",
    "    except diffusion.DiffusionError as ex:\n",
    "        print(f\"ERROR: {ex}\")\n",
    "    else:\n",
    "        print(f\"... expecting {response} response(s) ...\")\n",
    "\n",
    "    # waiting a bit to receive all responses\n",
    "    await asyncio.sleep(1)\n"
   ]
  }
 ],
 "metadata": {
  "kernelspec": {
   "display_name": "Python 3",
   "language": "python",
   "name": "python3"
  },
  "language_info": {
   "codemirror_mode": {
    "name": "ipython",
    "version": 3
   },
   "file_extension": ".py",
   "mimetype": "text/x-python",
   "name": "python",
   "nbconvert_exporter": "python",
   "pygments_lexer": "ipython3",
   "version": "3.8.5"
  }
 },
 "nbformat": 4,
 "nbformat_minor": 4
}