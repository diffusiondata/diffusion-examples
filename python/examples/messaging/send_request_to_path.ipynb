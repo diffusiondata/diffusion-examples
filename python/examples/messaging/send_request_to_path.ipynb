{
 "cells": [
  {
   "cell_type": "code",
   "execution_count": null,
   "metadata": {
    "pycharm": {
     "name": "#%%\n"
    }
   },
   "outputs": [],
   "source": [
    "import diffusion"
   ]
  },
  {
   "cell_type": "code",
   "execution_count": null,
   "metadata": {},
   "outputs": [],
   "source": [
    "# Diffusion server connection information; same for both sessions\n",
    "# adjust as needed for the server used in practice\n",
    "server_url = \"ws://localhost:8080\"\n",
    "principal = \"admin\"\n",
    "credentials = diffusion.Credentials(\"password\")\n",
    "\n",
    "\n",
    "# handler callback function\n",
    "def path_request_handler(request: str, context=None) -> str:\n",
    "    return f\"Hello there, {request}!\"\n",
    "\n",
    "\n",
    "# request properties\n",
    "request = \"Pushme Pullyou\"\n",
    "path = \"path\"\n",
    "request_type = diffusion.datatypes.STRING  # datatype of the request"
   ]
  },
  {
   "cell_type": "code",
   "execution_count": null,
   "metadata": {},
   "outputs": [],
   "source": [
    "# creating the two sessions\n",
    "sender_session = diffusion.Session(\n",
    "    url=server_url, principal=principal, credentials=credentials\n",
    ")\n",
    "receiver_session = diffusion.Session(\n",
    "    url=server_url, principal=principal, credentials=credentials\n",
    ")\n",
    "\n",
    "async with sender_session, receiver_session:\n",
    "    # instantiating the messaging components for both sessions\n",
    "    receiver = diffusion.Messaging(receiver_session)\n",
    "    sender = diffusion.Messaging(sender_session)\n",
    "\n",
    "    # registering the receiving request handler\n",
    "    await receiver.register_request_handler(\n",
    "        path,\n",
    "        callback=path_request_handler,\n",
    "        request_type=request_type,\n",
    "        response_type=request_type,\n",
    "    )\n",
    "\n",
    "    # sending the request and receiving the response\n",
    "    print(f\"Sending request: '{request}'...\")\n",
    "    try:\n",
    "        response = await sender.send_request_to_path(\n",
    "            path=path, request=request_type(request)\n",
    "        )\n",
    "    except diffusion.DiffusionError as ex:\n",
    "        print(f\"ERROR: {ex}\")\n",
    "    else:\n",
    "        print(f\"... received response '{response}'\")\n"
   ]
  },
  {
   "cell_type": "code",
   "execution_count": null,
   "metadata": {},
   "outputs": [],
   "source": []
  }
 ],
 "metadata": {
  "kernelspec": {
   "display_name": "Python 3",
   "language": "python",
   "name": "python3"
  },
  "language_info": {
   "codemirror_mode": {
    "name": "ipython",
    "version": 3
   },
   "file_extension": ".py",
   "mimetype": "text/x-python",
   "name": "python",
   "nbconvert_exporter": "python",
   "pygments_lexer": "ipython3",
   "version": "3.8.5"
  }
 },
 "nbformat": 4,
 "nbformat_minor": 4
}