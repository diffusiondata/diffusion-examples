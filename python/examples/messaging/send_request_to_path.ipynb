{
 "cells": [
  {
   "cell_type": "markdown",
   "metadata": {},
   "source": [
    "# Send request to path example\n",
    "\n",
    "To use this example, start a Diffusion server and update the connection details below as needed.\n",
    "\n",
    "The example creates two sessions, sets a request handler on one of them (the receiver) and then sends a request from the other (the sender)."
   ]
  },
  {
   "cell_type": "code",
   "execution_count": null,
   "metadata": {
    "pycharm": {
     "name": "#%%\n"
    }
   },
   "outputs": [],
   "source": [
    "import diffusion"
   ]
  },
  {
   "cell_type": "code",
   "execution_count": null,
   "metadata": {},
   "outputs": [],
   "source": [
    "print(diffusion.messaging)"
   ]
  },
  {
   "cell_type": "code",
   "execution_count": null,
   "metadata": {},
   "outputs": [],
   "source": [
    "# Diffusion server connection information; same for both sessions\n",
    "# adjust as needed for the server used in practice\n",
    "server_url = \"ws://localhost:8080\"\n",
    "principal = \"admin\"\n",
    "credentials = diffusion.Credentials(\"password\")\n",
    "\n",
    "\n",
    "# request properties\n",
    "request = \"Pushme Pullyou\"\n",
    "path = \"path\"\n",
    "request_type = diffusion.datatypes.STRING  # datatype of the request\n",
    "\n",
    "\n",
    "# callback function\n",
    "def callback(request: str, **kwargs) -> str:\n",
    "    return f\"Hello there, {request}!\"\n",
    "\n",
    "\n",
    "# handler object\n",
    "path_request_handler = diffusion.messaging.RequestHandler(\n",
    "    callback, request_type=request_type, response_type=request_type\n",
    ")"
   ]
  },
  {
   "cell_type": "code",
   "execution_count": null,
   "metadata": {},
   "outputs": [],
   "source": [
    "# creating the two sessions\n",
    "sender = diffusion.Session(\n",
    "    url=server_url, principal=principal, credentials=credentials\n",
    ")\n",
    "receiver = diffusion.Session(\n",
    "    url=server_url, principal=principal, credentials=credentials\n",
    ")\n",
    "\n",
    "async with sender, receiver:\n",
    "\n",
    "    # registering the receiving request handler\n",
    "    await receiver.messaging.register_request_handler(\n",
    "        path, handler=path_request_handler\n",
    "    )\n",
    "\n",
    "    # sending the request and receiving the response\n",
    "    print(f\"Sending request: '{request}'...\")\n",
    "    try:\n",
    "        response = await sender.messaging.send_request_to_path(\n",
    "            path=path, request=request_type(request)\n",
    "        )\n",
    "    except diffusion.DiffusionError as ex:\n",
    "        print(f\"ERROR: {ex}\")\n",
    "    else:\n",
    "        print(f\"... received response '{response}'\")\n"
   ]
  }
 ],
 "metadata": {
  "kernelspec": {
   "display_name": "Python 3",
   "language": "python",
   "name": "python3"
  },
  "language_info": {
   "codemirror_mode": {
    "name": "ipython",
    "version": 3
   },
   "file_extension": ".py",
   "mimetype": "text/x-python",
   "name": "python",
   "nbconvert_exporter": "python",
   "pygments_lexer": "ipython3",
   "version": "3.8.6"
  }
 },
 "nbformat": 4,
 "nbformat_minor": 4
}