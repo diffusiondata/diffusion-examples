{
 "cells": [
  {
   "cell_type": "markdown",
   "metadata": {},
   "source": [
    "# Send request to sesion example\n",
    "\n",
    "To use this example, start a Diffusion server and update the connection details below as needed.\n",
    "\n",
    "The example creates two sessions, sets a request handler on one of them (the receiver) and then sends a request from the other (the sender), addressed to the receiver's `sessionId`."
   ]
  },
  {
   "cell_type": "code",
   "execution_count": null,
   "metadata": {},
   "outputs": [],
   "source": [
    "import diffusion"
   ]
  },
  {
   "cell_type": "code",
   "execution_count": null,
   "metadata": {},
   "outputs": [],
   "source": [
    "# Diffusion server connection information; same for both sessions\n",
    "# adjust as needed for the server used in practice\n",
    "server_url = \"ws://localhost:8080\"\n",
    "principal = \"admin\"\n",
    "credentials = diffusion.Credentials(\"password\")\n",
    "\n",
    "\n",
    "# request properties\n",
    "request = \"Pushme Pullyou\"\n",
    "path = \"path\"\n",
    "request_type = diffusion.datatypes.STRING  # datatype of the request\n",
    "\n",
    "\n",
    "# handler callback function\n",
    "def callback(request: str, **kwargs) -> str:\n",
    "    return f\"Hello there, {request}!\"\n",
    "\n",
    "\n",
    "# handler object\n",
    "session_request_handler = diffusion.messaging.RequestHandler(\n",
    "    callback, request_type=request_type, response_type=request_type\n",
    ")"
   ]
  },
  {
   "cell_type": "code",
   "execution_count": null,
   "metadata": {
    "pycharm": {
     "name": "#%%\n"
    }
   },
   "outputs": [],
   "source": [
    "# creating the two sessions\n",
    "sender = diffusion.Session(\n",
    "    url=server_url, principal=principal, credentials=credentials\n",
    ")\n",
    "receiver = diffusion.Session(\n",
    "    url=server_url, principal=principal, credentials=credentials\n",
    ")\n",
    "\n",
    "async with sender, receiver:\n",
    "\n",
    "    # adding the handler for addressed requests\n",
    "    receiver.messaging.add_stream_handler(\n",
    "        path, handler=session_request_handler, addressed=True\n",
    "    )\n",
    "\n",
    "    # sending the request and receiving the response\n",
    "    print(\n",
    "        f\"Sending request: '{request}' to session {receiver.session_id}...\"\n",
    "    )\n",
    "    try:\n",
    "        response = await sender.messaging.send_request_to_session(\n",
    "            path=path,\n",
    "            session_id=receiver.session_id,\n",
    "            request=request_type(request),\n",
    "        )\n",
    "    except diffusion.DiffusionError as ex:\n",
    "        print(f\"ERROR: {ex}\")\n",
    "    else:\n",
    "        print(f\"... received response '{response}'\")"
   ]
  }
 ],
 "metadata": {
  "kernelspec": {
   "display_name": "Python 3",
   "language": "python",
   "name": "python3"
  },
  "language_info": {
   "codemirror_mode": {
    "name": "ipython",
    "version": 3
   },
   "file_extension": ".py",
   "mimetype": "text/x-python",
   "name": "python",
   "nbconvert_exporter": "python",
   "pygments_lexer": "ipython3",
   "version": "3.8.6"
  }
 },
 "nbformat": 4,
 "nbformat_minor": 4
}